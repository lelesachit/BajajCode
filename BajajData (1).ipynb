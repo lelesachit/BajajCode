{
  "nbformat": 4,
  "nbformat_minor": 0,
  "metadata": {
    "colab": {
      "provenance": []
    },
    "kernelspec": {
      "name": "python3",
      "display_name": "Python 3"
    },
    "language_info": {
      "name": "python"
    }
  },
  "cells": [
    {
      "cell_type": "code",
      "execution_count": 1,
      "metadata": {
        "colab": {
          "base_uri": "https://localhost:8080/",
          "height": 0
        },
        "id": "4tK85Hp9Q9OR",
        "outputId": "7e581cec-f8d7-45ba-e2b6-d4c91559e497"
      },
      "outputs": [
        {
          "output_type": "stream",
          "name": "stdout",
          "text": [
            "         _id appointmentId                                     patientDetails  \\\n",
            "0   T6hf3rb5     40d2-9c9f  {'_id': 'T6hb630b3', 'firstName': 'Css', 'last...   \n",
            "1   T65g3rb5      40dbtc9f  {'_id': 'T6h33b300', 'firstName': 'Lokesh', 'l...   \n",
            "2   T7g6Srb5      g3Wt5c9f  {'_id': 'TjhB4373', 'phrId': '63b5hvy614d5', '...   \n",
            "3   94bg8W8d      fb6-a535  {'_id': '6df4R5b', 'phrId': '644nig7y', 'first...   \n",
            "4   T6h8H56c       67h7KL9  {'_id': 'lK9hy06a', 'firstName': 'Raghu Viju',...   \n",
            "5    T9Jh8c8        Hy7Y91  {'_id': 'kI9d5c6', 'firstName': 'Dinesh Kumar'...   \n",
            "6   9Is624b9     10dY8a-4a  {'_id': 'i9R324b7', 'phrId': '67Yt2b97', 'firs...   \n",
            "7   T8H9c3c6      e8056Ye8  {'_id': 'T6h41b5ad3d8002ad9c3c4', 'firstName':...   \n",
            "8    T8Ud380     dbc0-c66b  {'_id': 'T9Iy347e', 'firstName': 'Dinesh', 'la...   \n",
            "9    T345fG4        1576a7  {'_id': 'T4Rb1a2', 'firstName': 'Sanjay', 'las...   \n",
            "10  T4F6a175       b6Te4ac  {'_id': 'Tr4T2173', 'phrId': '6E48U79', 'first...   \n",
            "11   TW3r002        bu5Qfb  {'_id': 'T6Wa50', 'firstName': 'Nirmala', 'las...   \n",
            "12   6U6Ra36       86U8Y45  {'_id': '65sRa36', 'firstName': 'Satish', 'las...   \n",
            "13   u7Y7Aa5       Ufd7231  {'_id': 'UG67231', 'phrId': 'T6a7231', 'firstN...   \n",
            "14   T3R5dec       E4u5Ea2  {'_id': 'E4u5Ea2', 'firstName': 'Satyanaaryan'...   \n",
            "15   T4E7Ge6      T4E3e410  {'_id': 'T4E7Ge6', 'firstName': 'Nivitha', 'la...   \n",
            "16  E5336545       04Re22d  {'_id': '04Re22d', 'firstName': 'Tejpal', 'las...   \n",
            "17   T7Ys58b      af9784hf  {'_id': 'u7dWa589', 'firstName': 'Nandhini', '...   \n",
            "18  Y874Us5w       I8eW201  {'_id': 'TU7e913', 'firstName': 'Dhanamma', 'l...   \n",
            "19   Y7s5G42     f7r501cb1  {'_id': 'H8s2d40', 'firstName': 'Kushal', 'las...   \n",
            "20  Y7eE5cd8    cf092c8t6c  {'_id': 'u9cd6', 'phrId': '6463U8s231', 'first...   \n",
            "21   I9984e8      O02n262e  {'_id': 'Pdh97S6', 'phrId': 'Jus0480', 'firstN...   \n",
            "22  Tu78a783      5dfN9s41  {'_id': 'h02U8a781', 'firstName': 'Preethi', '...   \n",
            "23   U9D2w6c      cc86re0f  {'_id': 'T6h40a5ad3d8002ad9c06a', 'firstName':...   \n",
            "24  T6hY6sEe       bd99dU7  {'_id': 'Y7sHec', 'firstName': 'Naresh', 'last...   \n",
            "25    H7sT6c        bcWe50  {'_id': 'T6h408981ayf32b63bcfa', 'firstName': ...   \n",
            "26   8Utyd5b       7au8se3  {'_id': 'T6U67af9', 'firstName': 'Govardhan', ...   \n",
            "27  y87Ta5c7      432cT213  {'_id': 'R53Et5W', 'firstName': 'Rajeshwari', ...   \n",
            "28  Ub7S65b7      D3fFr42c  {'_id': 'dE3r$2b5', 'firstName': 'Santosh', 'l...   \n",
            "29   yD7s2d7       7uyT6Rs  {'_id': 'TI93Hd5', 'firstName': 'Tarachand', '...   \n",
            "30   I9Sb4e8        O02n2e  {'_id': 'Pdh97S6', 'phrId': 'Jus0480', 'firstN...   \n",
            "\n",
            "       phoneNumber                                   consultationData  \n",
            "0      96686896670  {'adviceTemplates': [], 'advices': [], 'attach...  \n",
            "1       9496368916  {'adviceTemplates': [], 'advices': [], 'attach...  \n",
            "2       7787204833  {'adviceTemplates': [], 'advices': [], 'attach...  \n",
            "3       9376756879  {'adviceTemplates': [], 'advices': [], 'attach...  \n",
            "4       5267384241  {'adviceTemplates': [], 'advices': [], 'attach...  \n",
            "5    +919826374025  {'adviceTemplates': [], 'advices': [], 'attach...  \n",
            "6       7587265252  {'adviceTemplates': [], 'advices': [], 'attach...  \n",
            "7       5586958767  {'adviceTemplates': [], 'advices': [], 'attach...  \n",
            "8       9987602525  {'adviceTemplates': [], 'advices': [], 'attach...  \n",
            "9       9234354366  {'adviceTemplates': [], 'advices': [], 'attach...  \n",
            "10      4863281056  {'adviceTemplates': [], 'advices': [], 'attach...  \n",
            "11      8687986800  {'adviceTemplates': [], 'advices': [], 'attach...  \n",
            "12                  {'adviceTemplates': [], 'advices': [], 'attach...  \n",
            "13      7152684236  {'labTest': [], 'emrTemplates': [], 'doctorNot...  \n",
            "14                  {'adviceTemplates': [], 'advices': [], 'attach...  \n",
            "15      9184723620  {'adviceTemplates': [], 'advices': [], 'attach...  \n",
            "16                  {'adviceTemplates': [], 'advices': [], 'attach...  \n",
            "17      5847346075  {'adviceTemplates': [], 'advices': [], 'attach...  \n",
            "18      9064537237  {'adviceTemplates': [], 'advices': [], 'attach...  \n",
            "19                  {'adviceTemplates': [], 'advices': [], 'attach...  \n",
            "20       992727892  {'adviceTemplates': [], 'advices': [], 'attach...  \n",
            "21      6888324121  {'adviceTemplates': [], 'advices': [], 'attach...  \n",
            "22      8248594521  {'adviceTemplates': [], 'advices': [], 'attach...  \n",
            "23   +917938475936  {'adviceTemplates': [], 'advices': [], 'attach...  \n",
            "24  +9124648979746  {'adviceTemplates': [], 'advices': [], 'attach...  \n",
            "25   +916883788633  {'adviceTemplates': [], 'advices': [], 'attach...  \n",
            "26   +916636278363  {'adviceTemplates': [], 'advices': [], 'attach...  \n",
            "27      6525356535  {'adviceTemplates': [], 'advices': [], 'attach...  \n",
            "28                  {'adviceTemplates': [], 'advices': [], 'attach...  \n",
            "29   +919093872282  {'adviceTemplates': [], 'advices': [], 'attach...  \n",
            "30   +916888324121  {'adviceTemplates': [], 'advices': [], 'attach...  \n"
          ]
        }
      ],
      "source": [
        "import pandas as pd\n",
        "\n",
        "df = pd.read_json('/content/drive/MyDrive/model_weights/DataEngineeringQ2.json')\n",
        "print(df)"
      ]
    },
    {
      "cell_type": "code",
      "source": [
        "blank_firstName = df['patientDetails'].apply(lambda x: x.get('firstName', '') == '').sum()\n",
        "total_firstName = len(df['patientDetails'])\n",
        "percentage_blank_firstName = (blank_firstName / total_firstName) * 100\n",
        "\n",
        "blank_lastName = df['patientDetails'].apply(lambda x: x.get('lastName', '') == '').sum()\n",
        "total_lastName = len(df['patientDetails'])\n",
        "percentage_blank_lastName = (blank_lastName / total_lastName) * 100\n",
        "\n",
        "blank_DOB = df['patientDetails'].apply(lambda x: x.get('birthDate', '') == '').sum()\n",
        "total_DOB = len(df['patientDetails'])\n",
        "percentage_blank_DOB = (blank_DOB / total_DOB) * 100\n",
        "\n",
        "print(percentage_blank_firstName)\n",
        "print(percentage_blank_lastName)\n",
        "print(percentage_blank_DOB)\n",
        "\n"
      ],
      "metadata": {
        "colab": {
          "base_uri": "https://localhost:8080/",
          "height": 0
        },
        "id": "26FOey9MTL0i",
        "outputId": "555afb61-ed82-466f-e112-b009f2e2ff13"
      },
      "execution_count": 27,
      "outputs": [
        {
          "output_type": "stream",
          "name": "stdout",
          "text": [
            "0.0\n",
            "70.96774193548387\n",
            "29.03225806451613\n"
          ]
        }
      ]
    },
    {
      "cell_type": "code",
      "source": [
        "df['patientDetails'].apply(lambda x: x.setdefault('gender', df['patientDetails'].apply(lambda y: y.get('gender','')).mode()[0]))\n",
        "\n",
        "female_count = df['patientDetails'].apply(lambda x: x.get('gender', '') == 'F').sum()\n",
        "total_count = len(df['patientDetails'])\n",
        "percentage_female = (female_count / total_count) * 100\n",
        "\n",
        "print(percentage_female)\n"
      ],
      "metadata": {
        "colab": {
          "base_uri": "https://localhost:8080/",
          "height": 0
        },
        "id": "Z7Zxl-W_ULk5",
        "outputId": "44cf3db8-a2f5-4f1b-a816-c7f0554320be"
      },
      "execution_count": 28,
      "outputs": [
        {
          "output_type": "stream",
          "name": "stdout",
          "text": [
            "32.25806451612903\n"
          ]
        }
      ]
    },
    {
      "cell_type": "code",
      "source": [
        "from datetime import datetime\n",
        "def calculate_age(dob_str):\n",
        "  if dob_str:\n",
        "    dob_str = dob_str[0:10]\n",
        "    dob = datetime.strptime(dob_str, '%Y-%m-%d')\n",
        "    today = datetime.today()\n",
        "    age = today.year - dob.year - ((today.month, today.day) < (dob.month, dob.day))\n",
        "    return age\n",
        "  else:\n",
        "    return None\n",
        "\n",
        "df['age'] = df['patientDetails'].apply(lambda x: calculate_age(x.get('birthDate')))\n",
        "\n",
        "def categorize_age(age):\n",
        "  if age is None:\n",
        "    return None\n",
        "  elif age <= 12:\n",
        "    return 'Child'\n",
        "  elif age <= 19:\n",
        "    return 'Teen'\n",
        "  elif age <= 59:\n",
        "    return 'Adult'\n",
        "  else:\n",
        "    return 'Senior'\n",
        "\n",
        "df['ageGroup'] = df['age'].apply(categorize_age)\n",
        "\n",
        "print(df.head())\n"
      ],
      "metadata": {
        "colab": {
          "base_uri": "https://localhost:8080/",
          "height": 0
        },
        "id": "LimX3n9JUkq_",
        "outputId": "ef55ced1-8a4c-44a0-ca43-a3cc68e5988c"
      },
      "execution_count": 15,
      "outputs": [
        {
          "output_type": "stream",
          "name": "stdout",
          "text": [
            "        _id appointmentId                                     patientDetails  \\\n",
            "0  T6hf3rb5     40d2-9c9f  {'_id': 'T6hb630b3', 'firstName': 'Css', 'last...   \n",
            "1  T65g3rb5      40dbtc9f  {'_id': 'T6h33b300', 'firstName': 'Lokesh', 'l...   \n",
            "2  T7g6Srb5      g3Wt5c9f  {'_id': 'TjhB4373', 'phrId': '63b5hvy614d5', '...   \n",
            "3  94bg8W8d      fb6-a535  {'_id': '6df4R5b', 'phrId': '644nig7y', 'first...   \n",
            "4  T6h8H56c       67h7KL9  {'_id': 'lK9hy06a', 'firstName': 'Raghu Viju',...   \n",
            "\n",
            "   phoneNumber                                   consultationData   age  \\\n",
            "0  96686896670  {'adviceTemplates': [], 'advices': [], 'attach...   NaN   \n",
            "1   9496368916  {'adviceTemplates': [], 'advices': [], 'attach...  28.0   \n",
            "2   7787204833  {'adviceTemplates': [], 'advices': [], 'attach...   NaN   \n",
            "3   9376756879  {'adviceTemplates': [], 'advices': [], 'attach...  36.0   \n",
            "4   5267384241  {'adviceTemplates': [], 'advices': [], 'attach...   NaN   \n",
            "\n",
            "  ageGroup  \n",
            "0   Senior  \n",
            "1    Adult  \n",
            "2   Senior  \n",
            "3    Adult  \n",
            "4   Senior  \n"
          ]
        }
      ]
    },
    {
      "cell_type": "code",
      "source": [
        "num_adults = df['ageGroup'].value_counts().get('Adult', 0)\n",
        "print( num_adults)\n"
      ],
      "metadata": {
        "colab": {
          "base_uri": "https://localhost:8080/",
          "height": 0
        },
        "id": "CP3nAc8oXggz",
        "outputId": "2e739d3c-cb6b-46db-d083-2b86a9f63a7c"
      },
      "execution_count": 29,
      "outputs": [
        {
          "output_type": "stream",
          "name": "stdout",
          "text": [
            "21\n"
          ]
        }
      ]
    },
    {
      "cell_type": "code",
      "source": [
        "consulation = df['consultationData']\n",
        "print(consulation)"
      ],
      "metadata": {
        "colab": {
          "base_uri": "https://localhost:8080/",
          "height": 0
        },
        "id": "6pVwOTcFbNCw",
        "outputId": "3ea1edc4-45d3-43f3-8650-7e792337065c"
      },
      "execution_count": 31,
      "outputs": [
        {
          "output_type": "stream",
          "name": "stdout",
          "text": [
            "0     {'adviceTemplates': [], 'advices': [], 'attach...\n",
            "1     {'adviceTemplates': [], 'advices': [], 'attach...\n",
            "2     {'adviceTemplates': [], 'advices': [], 'attach...\n",
            "3     {'adviceTemplates': [], 'advices': [], 'attach...\n",
            "4     {'adviceTemplates': [], 'advices': [], 'attach...\n",
            "5     {'adviceTemplates': [], 'advices': [], 'attach...\n",
            "6     {'adviceTemplates': [], 'advices': [], 'attach...\n",
            "7     {'adviceTemplates': [], 'advices': [], 'attach...\n",
            "8     {'adviceTemplates': [], 'advices': [], 'attach...\n",
            "9     {'adviceTemplates': [], 'advices': [], 'attach...\n",
            "10    {'adviceTemplates': [], 'advices': [], 'attach...\n",
            "11    {'adviceTemplates': [], 'advices': [], 'attach...\n",
            "12    {'adviceTemplates': [], 'advices': [], 'attach...\n",
            "13    {'labTest': [], 'emrTemplates': [], 'doctorNot...\n",
            "14    {'adviceTemplates': [], 'advices': [], 'attach...\n",
            "15    {'adviceTemplates': [], 'advices': [], 'attach...\n",
            "16    {'adviceTemplates': [], 'advices': [], 'attach...\n",
            "17    {'adviceTemplates': [], 'advices': [], 'attach...\n",
            "18    {'adviceTemplates': [], 'advices': [], 'attach...\n",
            "19    {'adviceTemplates': [], 'advices': [], 'attach...\n",
            "20    {'adviceTemplates': [], 'advices': [], 'attach...\n",
            "21    {'adviceTemplates': [], 'advices': [], 'attach...\n",
            "22    {'adviceTemplates': [], 'advices': [], 'attach...\n",
            "23    {'adviceTemplates': [], 'advices': [], 'attach...\n",
            "24    {'adviceTemplates': [], 'advices': [], 'attach...\n",
            "25    {'adviceTemplates': [], 'advices': [], 'attach...\n",
            "26    {'adviceTemplates': [], 'advices': [], 'attach...\n",
            "27    {'adviceTemplates': [], 'advices': [], 'attach...\n",
            "28    {'adviceTemplates': [], 'advices': [], 'attach...\n",
            "29    {'adviceTemplates': [], 'advices': [], 'attach...\n",
            "30    {'adviceTemplates': [], 'advices': [], 'attach...\n",
            "Name: consultationData, dtype: object\n"
          ]
        }
      ]
    },
    {
      "cell_type": "code",
      "source": [
        "\n",
        "medicine_count = 0\n",
        "for consultation_list in consulation:\n",
        "  medicine_count += len(consultation_list)\n",
        "\n",
        "print(medicine_count)\n"
      ],
      "metadata": {
        "colab": {
          "base_uri": "https://localhost:8080/",
          "height": 0
        },
        "id": "z3qxrIP2bUyV",
        "outputId": "e50183da-eed1-4ceb-c7c5-4a83d97474d7"
      },
      "execution_count": 34,
      "outputs": [
        {
          "output_type": "stream",
          "name": "stdout",
          "text": [
            "809\n"
          ]
        }
      ]
    },
    {
      "cell_type": "code",
      "source": [
        "num_people = len(df)\n",
        "average_medicines = medicine_count / num_people\n",
        "print(average_medicines)\n"
      ],
      "metadata": {
        "colab": {
          "base_uri": "https://localhost:8080/",
          "height": 0
        },
        "id": "YMnSUWXOb_ef",
        "outputId": "a516fa87-a52c-4340-9a56-f4b65a6c5858"
      },
      "execution_count": 36,
      "outputs": [
        {
          "output_type": "stream",
          "name": "stdout",
          "text": [
            "26.096774193548388\n"
          ]
        }
      ]
    },
    {
      "cell_type": "code",
      "source": [
        "\n",
        "import re\n",
        "\n",
        "def is_valid_indian_phone(phone_number):\n",
        "  pattern = r\"^[6-9]\\d{9}$\"\n",
        "  return bool(re.match(pattern, phone_number))\n",
        "\n",
        "\n",
        "phone_number1 = \"9876543210\"\n",
        "\n",
        "\n",
        "print(is_valid_indian_phone(phone_number1))\n",
        "\n"
      ],
      "metadata": {
        "colab": {
          "base_uri": "https://localhost:8080/",
          "height": 0
        },
        "id": "GJOmFZaDdLx7",
        "outputId": "d3bce2c1-b0a2-4058-9eb0-05d86c058ef3"
      },
      "execution_count": 37,
      "outputs": [
        {
          "output_type": "stream",
          "name": "stdout",
          "text": [
            "True\n"
          ]
        }
      ]
    }
  ]
}